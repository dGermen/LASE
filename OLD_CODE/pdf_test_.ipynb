{
 "cells": [
  {
   "cell_type": "code",
   "execution_count": 84,
   "metadata": {},
   "outputs": [
    {
     "name": "stdout",
     "output_type": "stream",
     "text": [
      "ID: 1684752414202453462393\n"
     ]
    }
   ],
   "source": [
    "import time\n",
    "\n",
    "# Get the current time in seconds\n",
    "current_time_seconds = int(time.time())\n",
    "\n",
    "# Get the current time with higher precision (microseconds)\n",
    "current_time_microseconds = int(time.perf_counter() * 1_000_000)\n",
    "\n",
    "# Combine the seconds and microseconds to form the ID\n",
    "id = str(current_time_seconds) + str(current_time_microseconds)\n",
    "\n",
    "# Print the ID\n",
    "print(\"ID:\", id)\n"
   ]
  }
 ],
 "metadata": {
  "kernelspec": {
   "display_name": "LASE",
   "language": "python",
   "name": "python3"
  },
  "language_info": {
   "codemirror_mode": {
    "name": "ipython",
    "version": 3
   },
   "file_extension": ".py",
   "mimetype": "text/x-python",
   "name": "python",
   "nbconvert_exporter": "python",
   "pygments_lexer": "ipython3",
   "version": "3.11.3"
  },
  "orig_nbformat": 4
 },
 "nbformat": 4,
 "nbformat_minor": 2
}
