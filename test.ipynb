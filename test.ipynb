{
 "cells": [
  {
   "cell_type": "code",
   "execution_count": 2,
   "metadata": {},
   "outputs": [],
   "source": [
    "import numpy as np"
   ]
  },
  {
   "cell_type": "code",
   "execution_count": null,
   "metadata": {},
   "outputs": [],
   "source": [
    "# Load packages in requirments.txt with pip install -r requirements.txt"
   ]
  },
  {
   "cell_type": "code",
   "execution_count": null,
   "metadata": {},
   "outputs": [],
   "source": []
  },
  {
   "cell_type": "code",
   "execution_count": null,
   "metadata": {},
   "outputs": [],
   "source": [
    "# Get embeddings for ids 1 4 6 8\n",
    "\n",
    "# Get the embeddings\n",
    "query_ids = [1, 4, 6, 8]\n",
    "query_embeddings = []\n",
    "for id in query_ids:\n",
    "    query_embeddings.append(embeddings[embeddings[:, 0] == id].reshape(-1, 513))\n",
    "    "
   ]
  },
  {
   "cell_type": "code",
   "execution_count": null,
   "metadata": {},
   "outputs": [],
   "source": [
    "bb = embeddings[embeddings[:, 0] == 1]\n",
    "\n",
    "bb.shape\n",
    "\n",
    "aa = np.vstack([bb,bb])\n",
    "\n",
    "aa.shape"
   ]
  },
  {
   "cell_type": "code",
   "execution_count": null,
   "metadata": {},
   "outputs": [],
   "source": [
    "# Get the embeddings (remove ids)\n",
    "from sklearn.metrics.pairwise import cosine_similarity\n",
    "\n",
    "\n",
    "x = embeddings[1, 1:]\n",
    "# Compute cosine similarity between x and all embeddings in EMD\n",
    "similarities = cosine_similarity(embeddings[:, 1:], [x])\n",
    "\n",
    "    # Sort the cosine similarity scores in descending order\n",
    "sorted_indices = np.argsort(similarities, axis=0)[::-1]\n",
    "\n",
    "    # Retrieve the IDs of the top k most similar embeddings\n",
    "top_k_ids = embeddings[sorted_indices[:k], 0]"
   ]
  },
  {
   "attachments": {},
   "cell_type": "markdown",
   "metadata": {},
   "source": []
  },
  {
   "cell_type": "code",
   "execution_count": 2,
   "metadata": {},
   "outputs": [
    {
     "name": "stdout",
     "output_type": "stream",
     "text": [
      "Initializing WhooshIRProcessor with index_dir: index\n",
      "Scanning:  Wang_Pyramid_Vision_Transformer_A_Versatile_Backbone_for_Dense_Prediction_Without_ICCV_2021_paper.pdf\n",
      "Scanning:  181_dual_lottery_ticket_hypothesis.pdf\n",
      "Scanning:  Arnab_ViViT_A_Video_Vision_Transformer_ICCV_2021_paper.pdf\n",
      "Scanning:  Yun_CutMix_Regularization_Strategy_to_Train_Strong_Classifiers_With_Localizable_Features_ICCV_2019_paper.pdf\n",
      "Scanning:  Zhang_Unlearnable_Clusters_Towards_Label-Agnostic_Unlearnable_Examples_CVPR_2023_paper.pdf\n",
      "Scanning:  1710.10903.pdf\n",
      "Scanning:  .DS_Store\n",
      "Scanning:  Rangwani_NoisyTwins_Class-Consistent_and_Diverse_Image_Generation_Through_StyleGANs_CVPR_2023_paper.pdf\n",
      "Scanning:  2645_inductive_relation_prediction_.pdf\n",
      "Scanning:  Jiang_Robust_Outlier_Rejection_for_3D_Registration_With_Variational_Bayes_CVPR_2023_paper.pdf\n",
      "Scanning:  4_probabilistic_implicit_scene_c.pdf\n",
      "Scanning:  4105_generalisation_in_lifelong_rei.pdf\n",
      "Scanning:  550_source_free_adaptation_to_meas.pdf\n",
      "Scanning:  Xu_DisCoScene_Spatially_Disentangled_Generative_Radiance_Fields_for_Controllable_3D-Aware_Scene_CVPR_2023_paper.pdf\n",
      "Scanning:  Ding_Exploring_Structured_Semantic_Prior_for_Multi_Label_Recognition_With_Incomplete_CVPR_2023_paper.pdf\n",
      "Scanning:  Lin_TSM_Temporal_Shift_Module_for_Efficient_Video_Understanding_ICCV_2019_paper.pdf\n",
      "Scanning:  2105.04906.pdf\n",
      "Scanning:  544_the_inductive_bias_of_in_conte.pdf\n",
      "Scanning:  682_online_facility_location_with_.pdf\n",
      "Scanning:  Sun_VideoBERT_A_Joint_Model_for_Video_and_Language_Representation_Learning_ICCV_2019_paper.pdf\n",
      "Scanning:  222_analytic_dpm_an_analytic_estim.pdf\n",
      "Scanning:  Howard_Searching_for_MobileNetV3_ICCV_2019_paper.pdf\n",
      "Scanning:  Chen_CLIP2Scene_Towards_Label-Efficient_3D_Scene_Understanding_by_CLIP_CVPR_2023_paper.pdf\n",
      "Scanning:  1911.06455.pdf\n",
      "Scanning:  2011.10566.pdf\n",
      "Scanning:  2301.12597.pdf\n",
      "Scanning:  2111.09886.pdf\n",
      "Scanning:  Petrov_Object_Pop-Up_Can_We_Infer_3D_Objects_and_Their_Poses_CVPR_2023_paper.pdf\n",
      "Scanning:  He_Rethinking_ImageNet_Pre-Training_ICCV_2019_paper.pdf\n",
      "Scanning:  868_meta_learning_with_fewer_tasks.pdf\n",
      "Scanning:  437_you_mostly_walk_alone_analyzin.pdf\n",
      "Scanning:  Feichtenhofer_SlowFast_Networks_for_Video_Recognition_ICCV_2019_paper.pdf\n"
     ]
    }
   ],
   "source": [
    "import manager\n",
    "\n",
    "\n",
    "MAMANAGER = manager.Manager()\n",
    "\n",
    "\n",
    "# create requreiements.txt\n",
    "# pip freeze > requirements.txt\n",
    "\n"
   ]
  },
  {
   "cell_type": "code",
   "execution_count": 4,
   "metadata": {},
   "outputs": [
    {
     "data": {
      "text/plain": [
       "(2, 3)"
      ]
     },
     "execution_count": 4,
     "metadata": {},
     "output_type": "execute_result"
    }
   ],
   "source": [
    "import numpy as np\n",
    "matrix = np.array([[1, 2, 3],\n",
    "                   [4, 5, 6]])\n",
    "\n",
    "\n",
    "matrix.shape"
   ]
  },
  {
   "attachments": {},
   "cell_type": "markdown",
   "metadata": {},
   "source": [
    "# Write an exception for RateLimitError:\n",
    "\n"
   ]
  },
  {
   "cell_type": "code",
   "execution_count": 1,
   "metadata": {},
   "outputs": [
    {
     "ename": "SyntaxError",
     "evalue": "invalid syntax (3041006547.py, line 5)",
     "output_type": "error",
     "traceback": [
      "\u001b[0;36m  Input \u001b[0;32mIn [1]\u001b[0;36m\u001b[0m\n\u001b[0;31m    conda env remove -n codna\u001b[0m\n\u001b[0m          ^\u001b[0m\n\u001b[0;31mSyntaxError\u001b[0m\u001b[0;31m:\u001b[0m invalid syntax\n"
     ]
    }
   ],
   "source": [
    "# Write an exception for RateLimitError:\n",
    "\n",
    "\n",
    "# Delete codna env\n",
    "conda env remove -n codna\n",
    "\n",
    "# Deactivate codna env\n",
    "conda deactivate\n",
    "\n",
    "# Create codna env\n",
    "conda create -n codna python=3.8\n",
    "\n"
   ]
  },
  {
   "cell_type": "code",
   "execution_count": 1,
   "metadata": {},
   "outputs": [
    {
     "name": "stdout",
     "output_type": "stream",
     "text": [
      "Initializing WhooshIRProcessor with index_dir: index\n",
      "Scanning:  Wang_Pyramid_Vision_Transformer_A_Versatile_Backbone_for_Dense_Prediction_Without_ICCV_2021_paper.pdf\n",
      "Scanning:  181_dual_lottery_ticket_hypothesis.pdf\n",
      "Scanning:  Arnab_ViViT_A_Video_Vision_Transformer_ICCV_2021_paper.pdf\n",
      "Scanning:  Yun_CutMix_Regularization_Strategy_to_Train_Strong_Classifiers_With_Localizable_Features_ICCV_2019_paper.pdf\n",
      "Scanning:  Zhang_Unlearnable_Clusters_Towards_Label-Agnostic_Unlearnable_Examples_CVPR_2023_paper.pdf\n",
      "Scanning:  1710.10903.pdf\n",
      "Scanning:  .DS_Store\n",
      "Scanning:  Rangwani_NoisyTwins_Class-Consistent_and_Diverse_Image_Generation_Through_StyleGANs_CVPR_2023_paper.pdf\n",
      "Scanning:  2645_inductive_relation_prediction_.pdf\n",
      "Scanning:  Jiang_Robust_Outlier_Rejection_for_3D_Registration_With_Variational_Bayes_CVPR_2023_paper.pdf\n",
      "Scanning:  4_probabilistic_implicit_scene_c.pdf\n",
      "Scanning:  4105_generalisation_in_lifelong_rei.pdf\n",
      "Scanning:  550_source_free_adaptation_to_meas.pdf\n",
      "Scanning:  Xu_DisCoScene_Spatially_Disentangled_Generative_Radiance_Fields_for_Controllable_3D-Aware_Scene_CVPR_2023_paper.pdf\n",
      "Scanning:  Ding_Exploring_Structured_Semantic_Prior_for_Multi_Label_Recognition_With_Incomplete_CVPR_2023_paper.pdf\n",
      "Scanning:  Lin_TSM_Temporal_Shift_Module_for_Efficient_Video_Understanding_ICCV_2019_paper.pdf\n",
      "Scanning:  2105.04906.pdf\n",
      "Scanning:  544_the_inductive_bias_of_in_conte.pdf\n",
      "Scanning:  682_online_facility_location_with_.pdf\n",
      "Scanning:  Sun_VideoBERT_A_Joint_Model_for_Video_and_Language_Representation_Learning_ICCV_2019_paper.pdf\n",
      "Scanning:  222_analytic_dpm_an_analytic_estim.pdf\n",
      "Scanning:  Howard_Searching_for_MobileNetV3_ICCV_2019_paper.pdf\n",
      "Scanning:  Chen_CLIP2Scene_Towards_Label-Efficient_3D_Scene_Understanding_by_CLIP_CVPR_2023_paper.pdf\n",
      "Scanning:  1911.06455.pdf\n",
      "Scanning:  2011.10566.pdf\n",
      "Scanning:  2301.12597.pdf\n",
      "Scanning:  2111.09886.pdf\n",
      "Scanning:  Petrov_Object_Pop-Up_Can_We_Infer_3D_Objects_and_Their_Poses_CVPR_2023_paper.pdf\n",
      "Scanning:  He_Rethinking_ImageNet_Pre-Training_ICCV_2019_paper.pdf\n",
      "Scanning:  868_meta_learning_with_fewer_tasks.pdf\n",
      "Scanning:  437_you_mostly_walk_alone_analyzin.pdf\n",
      "Scanning:  Feichtenhofer_SlowFast_Networks_for_Video_Recognition_ICCV_2019_paper.pdf\n",
      "Searching for ML\n"
     ]
    }
   ],
   "source": [
    "import manager\n",
    "\n",
    "MAMANAGER = manager.Manager()\n",
    "\n",
    "MAMANAGER.query(\"ML\")\n"
   ]
  },
  {
   "cell_type": "code",
   "execution_count": 3,
   "metadata": {},
   "outputs": [],
   "source": [
    "r = MAMANAGER.query(\"ML\")\n",
    "r"
   ]
  },
  {
   "cell_type": "code",
   "execution_count": 6,
   "metadata": {},
   "outputs": [
    {
     "data": {
      "text/plain": [
       "'papers/Jiang_Robust_Outlier_Rejection_for_3D_Registration_With_Variational_Bayes_CVPR_2023_paper.pdf'"
      ]
     },
     "execution_count": 6,
     "metadata": {},
     "output_type": "execute_result"
    }
   ],
   "source": [
    "MAMANAGER.vis_data[14][\"dir\"]"
   ]
  }
 ],
 "metadata": {
  "kernelspec": {
   "display_name": "LASE",
   "language": "python",
   "name": "python3"
  },
  "language_info": {
   "codemirror_mode": {
    "name": "ipython",
    "version": 3
   },
   "file_extension": ".py",
   "mimetype": "text/x-python",
   "name": "python",
   "nbconvert_exporter": "python",
   "pygments_lexer": "ipython3",
   "version": "3.8.16"
  },
  "orig_nbformat": 4
 },
 "nbformat": 4,
 "nbformat_minor": 2
}
