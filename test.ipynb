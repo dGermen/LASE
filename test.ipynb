{
 "cells": [
  {
   "cell_type": "code",
   "execution_count": 11,
   "metadata": {},
   "outputs": [],
   "source": [
    "import numpy as np"
   ]
  },
  {
   "cell_type": "code",
   "execution_count": 12,
   "metadata": {},
   "outputs": [],
   "source": [
    "# Generate 2d array, id and embeddings\n",
    "\n",
    "# Generate random embeddings\n",
    "embeddings = np.random.rand(100, 512)\n",
    "\n",
    "# Generate random ids\n",
    "ids = np.arange(100)\n",
    "\n",
    "# Get them to the same array\n",
    "embeddings = np.concatenate((ids.reshape(-1, 1), embeddings), axis=1)\n",
    "\n"
   ]
  },
  {
   "cell_type": "code",
   "execution_count": null,
   "metadata": {},
   "outputs": [],
   "source": []
  },
  {
   "cell_type": "code",
   "execution_count": 13,
   "metadata": {},
   "outputs": [],
   "source": [
    "# Get embeddings for ids 1 4 6 8\n",
    "\n",
    "# Get the embeddings\n",
    "query_ids = [1, 4, 6, 8]\n",
    "query_embeddings = []\n",
    "for id in query_ids:\n",
    "    query_embeddings.append(embeddings[embeddings[:, 0] == id].reshape(-1, 513))\n",
    "    "
   ]
  },
  {
   "cell_type": "code",
   "execution_count": 14,
   "metadata": {},
   "outputs": [
    {
     "data": {
      "text/plain": [
       "(2, 513)"
      ]
     },
     "execution_count": 14,
     "metadata": {},
     "output_type": "execute_result"
    }
   ],
   "source": [
    "bb = embeddings[embeddings[:, 0] == 1]\n",
    "\n",
    "bb.shape\n",
    "\n",
    "aa = np.vstack([bb,bb])\n",
    "\n",
    "aa.shape"
   ]
  },
  {
   "cell_type": "code",
   "execution_count": 15,
   "metadata": {},
   "outputs": [
    {
     "ename": "NameError",
     "evalue": "name 'k' is not defined",
     "output_type": "error",
     "traceback": [
      "\u001b[1;31m---------------------------------------------------------------------------\u001b[0m",
      "\u001b[1;31mNameError\u001b[0m                                 Traceback (most recent call last)",
      "Cell \u001b[1;32mIn[15], line 13\u001b[0m\n\u001b[0;32m     10\u001b[0m sorted_indices \u001b[39m=\u001b[39m np\u001b[39m.\u001b[39margsort(similarities, axis\u001b[39m=\u001b[39m\u001b[39m0\u001b[39m)[::\u001b[39m-\u001b[39m\u001b[39m1\u001b[39m]\n\u001b[0;32m     12\u001b[0m     \u001b[39m# Retrieve the IDs of the top k most similar embeddings\u001b[39;00m\n\u001b[1;32m---> 13\u001b[0m top_k_ids \u001b[39m=\u001b[39m embeddings[sorted_indices[:k], \u001b[39m0\u001b[39m]\n",
      "\u001b[1;31mNameError\u001b[0m: name 'k' is not defined"
     ]
    }
   ],
   "source": [
    "# Get the embeddings (remove ids)\n",
    "from sklearn.metrics.pairwise import cosine_similarity\n",
    "\n",
    "\n",
    "x = embeddings[1, 1:]\n",
    "# Compute cosine similarity between x and all embeddings in EMD\n",
    "similarities = cosine_similarity(embeddings[:, 1:], [x])\n",
    "\n",
    "    # Sort the cosine similarity scores in descending order\n",
    "sorted_indices = np.argsort(similarities, axis=0)[::-1]\n",
    "\n",
    "    # Retrieve the IDs of the top k most similar embeddings\n",
    "top_k_ids = embeddings[sorted_indices[:k], 0]"
   ]
  },
  {
   "attachments": {},
   "cell_type": "markdown",
   "metadata": {},
   "source": []
  },
  {
   "cell_type": "code",
   "execution_count": 1,
   "metadata": {},
   "outputs": [
    {
     "name": "stdout",
     "output_type": "stream",
     "text": [
      "Index not found at index/whoosh_index. Creating new index.\n",
      "New index created at index/whoosh_index.\n"
     ]
    }
   ],
   "source": [
    "import manager\n",
    "\n",
    "\n",
    "MAMANAGER = manager.Manager()\n"
   ]
  },
  {
   "cell_type": "code",
   "execution_count": 4,
   "metadata": {},
   "outputs": [
    {
     "name": "stdout",
     "output_type": "stream",
     "text": [
      "[4]\n"
     ]
    }
   ],
   "source": [
    "a = MAMANAGER.whoosh_manager.query(\"MLP\")\n",
    "print(a)"
   ]
  },
  {
   "cell_type": "code",
   "execution_count": 2,
   "metadata": {},
   "outputs": [
    {
     "data": {
      "text/plain": [
       "'papers/181_dual_lottery_ticket_hypothesis.pdf'"
      ]
     },
     "execution_count": 2,
     "metadata": {},
     "output_type": "execute_result"
    }
   ],
   "source": [
    "import pickle\n",
    "vis_data_path = \"index/vis_data.pkl\"\n",
    "with open(vis_data_path, 'rb') as f:\n",
    "    vis_data = pickle.load(f) \n",
    "\n",
    "\n",
    "vis_data[1][\"dir\"]\n",
    "\n"
   ]
  },
  {
   "cell_type": "code",
   "execution_count": 7,
   "metadata": {},
   "outputs": [
    {
     "name": "stdout",
     "output_type": "stream",
     "text": [
      "[[1.0 0.7627352854578398 0.25900094633970705 ... 0.8195311761014844\n",
      "  0.32429757532138725 0.19307303602386627]\n",
      " [2.0 0.34852817252385193 0.6259729035381107 ... 0.2653945101335434\n",
      "  0.9255377960420886 0.00640661527513553]\n",
      " [3.0 0.9308570628809332 0.154595467683725 ... 0.4667282662040294\n",
      "  0.7567001151904011 0.2291235688088029]\n",
      " [4.0 0.32103429919046544 0.6345620525128606 ... 0.5336188545299068\n",
      "  0.4497209769157594 0.8053967920763233]]\n"
     ]
    }
   ],
   "source": [
    "import pickle\n",
    "\n",
    "# load IR/LASE/index/embed.npy pickled data\n",
    "f = \"index/embed.npy\"\n",
    "\n",
    "embed_data = np.load(f, allow_pickle=True)\n",
    "\n",
    "\n",
    "print(embed_data)"
   ]
  },
  {
   "cell_type": "code",
   "execution_count": 4,
   "metadata": {},
   "outputs": [
    {
     "data": {
      "text/plain": [
       "(2, 3)"
      ]
     },
     "execution_count": 4,
     "metadata": {},
     "output_type": "execute_result"
    }
   ],
   "source": [
    "import numpy as np\n",
    "matrix = np.array([[1, 2, 3],\n",
    "                   [4, 5, 6]])\n",
    "\n",
    "\n",
    "matrix.shape"
   ]
  },
  {
   "attachments": {},
   "cell_type": "markdown",
   "metadata": {},
   "source": [
    "# Write an exception for RateLimitError:\n",
    "\n"
   ]
  },
  {
   "cell_type": "code",
   "execution_count": null,
   "metadata": {},
   "outputs": [],
   "source": [
    "# Write an exception for RateLimitError:\n",
    "\n",
    "\n",
    "\n"
   ]
  },
  {
   "cell_type": "code",
   "execution_count": 1,
   "metadata": {},
   "outputs": [
    {
     "name": "stdout",
     "output_type": "stream",
     "text": [
      "Scanning:  Wang_Pyramid_Vision_Transformer_A_Versatile_Backbone_for_Dense_Prediction_Without_ICCV_2021_paper.pdf\n",
      "Time taken to add to index:  0.9771578311920166\n",
      "Scanning:  181_dual_lottery_ticket_hypothesis.pdf\n",
      "Time taken to add to index:  2.259612798690796\n",
      "Scanning:  Arnab_ViViT_A_Video_Vision_Transformer_ICCV_2021_paper.pdf\n",
      "Time taken to add to index:  0.8729770183563232\n",
      "Scanning:  Yun_CutMix_Regularization_Strategy_to_Train_Strong_Classifiers_With_Localizable_Features_ICCV_2019_paper.pdf\n",
      "Time taken to add to index:  0.8799319267272949\n",
      "Scanning:  Zhang_Unlearnable_Clusters_Towards_Label-Agnostic_Unlearnable_Examples_CVPR_2023_paper.pdf\n",
      "Time taken to add to index:  0.7211363315582275\n",
      "Scanning:  1710.10903.pdf\n",
      "Time taken to add to index:  1.2523419857025146\n",
      "Scanning:  .DS_Store\n",
      "Scanning:  Rangwani_NoisyTwins_Class-Consistent_and_Diverse_Image_Generation_Through_StyleGANs_CVPR_2023_paper.pdf\n",
      "Time taken to add to index:  0.955115556716919\n",
      "Scanning:  2645_inductive_relation_prediction_.pdf\n",
      "Time taken to add to index:  2.607128143310547\n",
      "Scanning:  Jiang_Robust_Outlier_Rejection_for_3D_Registration_With_Variational_Bayes_CVPR_2023_paper.pdf\n",
      "Time taken to add to index:  0.9732069969177246\n",
      "Scanning:  4_probabilistic_implicit_scene_c.pdf\n",
      "Time taken to add to index:  1.253312110900879\n",
      "Scanning:  4105_generalisation_in_lifelong_rei.pdf\n",
      "Time taken to add to index:  12.405508041381836\n",
      "Scanning:  550_source_free_adaptation_to_meas.pdf\n",
      "Time taken to add to index:  2.183274030685425\n",
      "Scanning:  Xu_DisCoScene_Spatially_Disentangled_Generative_Radiance_Fields_for_Controllable_3D-Aware_Scene_CVPR_2023_paper.pdf\n",
      "Time taken to add to index:  0.7397520542144775\n",
      "Scanning:  Ding_Exploring_Structured_Semantic_Prior_for_Multi_Label_Recognition_With_Incomplete_CVPR_2023_paper.pdf\n",
      "Time taken to add to index:  0.8733658790588379\n",
      "Scanning:  Lin_TSM_Temporal_Shift_Module_for_Efficient_Video_Understanding_ICCV_2019_paper.pdf\n",
      "Time taken to add to index:  0.8752188682556152\n",
      "Scanning:  2105.04906.pdf\n",
      "Time taken to add to index:  3.142210006713867\n",
      "Scanning:  544_the_inductive_bias_of_in_conte.pdf\n",
      "Time taken to add to index:  2.124145984649658\n",
      "Scanning:  682_online_facility_location_with_.pdf\n",
      "Time taken to add to index:  0.9507532119750977\n",
      "Scanning:  Sun_VideoBERT_A_Joint_Model_for_Video_and_Language_Representation_Learning_ICCV_2019_paper.pdf\n",
      "Time taken to add to index:  0.8616719245910645\n",
      "Scanning:  222_analytic_dpm_an_analytic_estim.pdf\n",
      "Time taken to add to index:  1.8347837924957275\n",
      "Scanning:  Howard_Searching_for_MobileNetV3_ICCV_2019_paper.pdf\n",
      "Time taken to add to index:  3.7687408924102783\n",
      "Scanning:  Chen_CLIP2Scene_Towards_Label-Efficient_3D_Scene_Understanding_by_CLIP_CVPR_2023_paper.pdf\n",
      "Time taken to add to index:  0.9411258697509766\n",
      "Scanning:  1911.06455.pdf\n",
      "Time taken to add to index:  0.4078798294067383\n",
      "Scanning:  2011.10566.pdf\n",
      "Time taken to add to index:  0.58669114112854\n",
      "Scanning:  2301.12597.pdf\n",
      "Time taken to add to index:  0.7325079441070557\n",
      "Scanning:  2111.09886.pdf\n",
      "Time taken to add to index:  3.39424467086792\n",
      "Scanning:  Petrov_Object_Pop-Up_Can_We_Infer_3D_Objects_and_Their_Poses_CVPR_2023_paper.pdf\n",
      "Time taken to add to index:  0.5709989070892334\n",
      "Scanning:  He_Rethinking_ImageNet_Pre-Training_ICCV_2019_paper.pdf\n",
      "Time taken to add to index:  1.2818188667297363\n",
      "Scanning:  868_meta_learning_with_fewer_tasks.pdf\n",
      "Time taken to add to index:  1.849656105041504\n",
      "Scanning:  437_you_mostly_walk_alone_analyzin.pdf\n",
      "Time taken to add to index:  0.7171318531036377\n",
      "Scanning:  Feichtenhofer_SlowFast_Networks_for_Video_Recognition_ICCV_2019_paper.pdf\n",
      "Time taken to add to index:  4.259922981262207\n"
     ]
    }
   ],
   "source": [
    "import manager\n",
    "\n",
    "MAMANAGER = manager.Manager()\n",
    "\n"
   ]
  },
  {
   "cell_type": "code",
   "execution_count": 3,
   "metadata": {},
   "outputs": [],
   "source": [
    "r = MAMANAGER.query(\"ML\")\n",
    "r"
   ]
  },
  {
   "cell_type": "code",
   "execution_count": 6,
   "metadata": {},
   "outputs": [
    {
     "data": {
      "text/plain": [
       "'papers/Jiang_Robust_Outlier_Rejection_for_3D_Registration_With_Variational_Bayes_CVPR_2023_paper.pdf'"
      ]
     },
     "execution_count": 6,
     "metadata": {},
     "output_type": "execute_result"
    }
   ],
   "source": [
    "MAMANAGER.vis_data[14][\"dir\"]"
   ]
  }
 ],
 "metadata": {
  "kernelspec": {
   "display_name": "LASE",
   "language": "python",
   "name": "python3"
  },
  "language_info": {
   "codemirror_mode": {
    "name": "ipython",
    "version": 3
   },
   "file_extension": ".py",
   "mimetype": "text/x-python",
   "name": "python",
   "nbconvert_exporter": "python",
   "pygments_lexer": "ipython3",
   "version": "3.8.5"
  },
  "orig_nbformat": 4
 },
 "nbformat": 4,
 "nbformat_minor": 2
}
