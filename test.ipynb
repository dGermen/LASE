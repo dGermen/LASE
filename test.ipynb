{
 "cells": [
  {
   "cell_type": "code",
   "execution_count": 2,
   "metadata": {},
   "outputs": [],
   "source": [
    "import numpy as np"
   ]
  },
  {
   "cell_type": "code",
   "execution_count": 21,
   "metadata": {},
   "outputs": [],
   "source": [
    "# Generate 2d array, id and embeddings\n",
    "\n",
    "# Generate random embeddings\n",
    "embeddings = np.random.rand(100, 512)\n",
    "\n",
    "# Generate random ids\n",
    "ids = np.arange(100)\n",
    "\n",
    "# Get them to the same array\n",
    "embeddings = np.concatenate((ids.reshape(-1, 1), embeddings), axis=1)\n",
    "\n"
   ]
  },
  {
   "cell_type": "code",
   "execution_count": 23,
   "metadata": {},
   "outputs": [],
   "source": [
    "# Get embeddings for ids 1 4 6 8\n",
    "\n",
    "# Get the embeddings\n",
    "query_ids = [1, 4, 6, 8]\n",
    "query_embeddings = []\n",
    "for id in query_ids:\n",
    "    query_embeddings.append(embeddings[embeddings[:, 0] == id].reshape(-1, 513))\n",
    "    "
   ]
  },
  {
   "cell_type": "code",
   "execution_count": 31,
   "metadata": {},
   "outputs": [
    {
     "data": {
      "text/plain": [
       "(2, 513)"
      ]
     },
     "execution_count": 31,
     "metadata": {},
     "output_type": "execute_result"
    }
   ],
   "source": [
    "bb = embeddings[embeddings[:, 0] == 1]\n",
    "\n",
    "bb.shape\n",
    "\n",
    "aa = np.vstack([bb,bb])\n",
    "\n",
    "aa.shape"
   ]
  },
  {
   "cell_type": "code",
   "execution_count": 33,
   "metadata": {},
   "outputs": [
    {
     "data": {
      "text/plain": [
       "(100,)"
      ]
     },
     "execution_count": 33,
     "metadata": {},
     "output_type": "execute_result"
    }
   ],
   "source": [
    "# Get the embeddings (remove ids)\n",
    "from sklearn.metrics.pairwise import cosine_similarity\n",
    "\n",
    "\n",
    "x = embeddings[1, 1:]\n",
    "# Compute cosine similarity between x and all embeddings in EMD\n",
    "similarities = cosine_similarity(embeddings[:, 1:], [x])\n",
    "\n",
    "    # Sort the cosine similarity scores in descending order\n",
    "sorted_indices = np.argsort(similarities, axis=0)[::-1]\n",
    "\n",
    "    # Retrieve the IDs of the top k most similar embeddings\n",
    "top_k_ids = embeddings[sorted_indices[:k], 0]"
   ]
  }
 ],
 "metadata": {
  "kernelspec": {
   "display_name": "LASE",
   "language": "python",
   "name": "python3"
  },
  "language_info": {
   "codemirror_mode": {
    "name": "ipython",
    "version": 3
   },
   "file_extension": ".py",
   "mimetype": "text/x-python",
   "name": "python",
   "nbconvert_exporter": "python",
   "pygments_lexer": "ipython3",
   "version": "3.11.3"
  },
  "orig_nbformat": 4
 },
 "nbformat": 4,
 "nbformat_minor": 2
}
