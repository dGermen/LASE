{
 "cells": [
  {
   "cell_type": "code",
   "execution_count": 2,
   "metadata": {},
   "outputs": [],
   "source": [
    "import numpy as np"
   ]
  },
  {
   "cell_type": "code",
   "execution_count": null,
   "metadata": {},
   "outputs": [],
   "source": [
    "# Generate 2d array, id and embeddings\n",
    "\n",
    "# Generate random embeddings\n",
    "embeddings = np.random.rand(100, 512)\n",
    "\n",
    "# Generate random ids\n",
    "ids = np.arange(100)\n",
    "\n",
    "# Get them to the same array\n",
    "embeddings = np.concatenate((ids.reshape(-1, 1), embeddings), axis=1)\n",
    "\n"
   ]
  },
  {
   "cell_type": "code",
   "execution_count": null,
   "metadata": {},
   "outputs": [],
   "source": []
  },
  {
   "cell_type": "code",
   "execution_count": null,
   "metadata": {},
   "outputs": [],
   "source": [
    "# Get embeddings for ids 1 4 6 8\n",
    "\n",
    "# Get the embeddings\n",
    "query_ids = [1, 4, 6, 8]\n",
    "query_embeddings = []\n",
    "for id in query_ids:\n",
    "    query_embeddings.append(embeddings[embeddings[:, 0] == id].reshape(-1, 513))\n",
    "    "
   ]
  },
  {
   "cell_type": "code",
   "execution_count": null,
   "metadata": {},
   "outputs": [],
   "source": [
    "bb = embeddings[embeddings[:, 0] == 1]\n",
    "\n",
    "bb.shape\n",
    "\n",
    "aa = np.vstack([bb,bb])\n",
    "\n",
    "aa.shape"
   ]
  },
  {
   "cell_type": "code",
   "execution_count": null,
   "metadata": {},
   "outputs": [],
   "source": [
    "# Get the embeddings (remove ids)\n",
    "from sklearn.metrics.pairwise import cosine_similarity\n",
    "\n",
    "\n",
    "x = embeddings[1, 1:]\n",
    "# Compute cosine similarity between x and all embeddings in EMD\n",
    "similarities = cosine_similarity(embeddings[:, 1:], [x])\n",
    "\n",
    "    # Sort the cosine similarity scores in descending order\n",
    "sorted_indices = np.argsort(similarities, axis=0)[::-1]\n",
    "\n",
    "    # Retrieve the IDs of the top k most similar embeddings\n",
    "top_k_ids = embeddings[sorted_indices[:k], 0]"
   ]
  },
  {
   "attachments": {},
   "cell_type": "markdown",
   "metadata": {},
   "source": []
  },
  {
   "cell_type": "code",
   "execution_count": 2,
   "metadata": {},
   "outputs": [
    {
     "ename": "KeyboardInterrupt",
     "evalue": "",
     "output_type": "error",
     "traceback": [
      "\u001b[0;31m---------------------------------------------------------------------------\u001b[0m",
      "\u001b[0;31mKeyboardInterrupt\u001b[0m                         Traceback (most recent call last)",
      "Cell \u001b[0;32mIn[2], line 4\u001b[0m\n\u001b[1;32m      1\u001b[0m \u001b[39mimport\u001b[39;00m \u001b[39mmanager\u001b[39;00m\n\u001b[0;32m----> 4\u001b[0m MAMANAGER \u001b[39m=\u001b[39m manager\u001b[39m.\u001b[39;49mManager()\n",
      "File \u001b[0;32m~/Documents/Academic/Courses/CENG596/LASE/LASE/manager.py:30\u001b[0m, in \u001b[0;36mManager.__init__\u001b[0;34m(self, index_dir, paper_dir)\u001b[0m\n\u001b[1;32m     24\u001b[0m \u001b[39mself\u001b[39m\u001b[39m.\u001b[39mwhoosh_manager \u001b[39m=\u001b[39m whoosh_manager\u001b[39m.\u001b[39mWhooshIRProcessor(\n\u001b[1;32m     25\u001b[0m     index_dir \u001b[39m=\u001b[39m \u001b[39mself\u001b[39m\u001b[39m.\u001b[39mindex_dir)\n\u001b[1;32m     27\u001b[0m \u001b[39mself\u001b[39m\u001b[39m.\u001b[39membed_manager \u001b[39m=\u001b[39m embed_manager\u001b[39m.\u001b[39mEmbedManager(\n\u001b[1;32m     28\u001b[0m     embed_data \u001b[39m=\u001b[39m \u001b[39mself\u001b[39m\u001b[39m.\u001b[39membed_data)\n\u001b[0;32m---> 30\u001b[0m \u001b[39mself\u001b[39m\u001b[39m.\u001b[39mfile_manager \u001b[39m=\u001b[39m file_manager\u001b[39m.\u001b[39;49mFileManager(\n\u001b[1;32m     31\u001b[0m     paper_dir \u001b[39m=\u001b[39;49m \u001b[39mself\u001b[39;49m\u001b[39m.\u001b[39;49mpaper_dir,\n\u001b[1;32m     32\u001b[0m     index_dir \u001b[39m=\u001b[39;49m \u001b[39mself\u001b[39;49m\u001b[39m.\u001b[39;49mindex_dir,\n\u001b[1;32m     33\u001b[0m     whoosh_manager \u001b[39m=\u001b[39;49m \u001b[39mself\u001b[39;49m\u001b[39m.\u001b[39;49mwhoosh_manager, \n\u001b[1;32m     34\u001b[0m     embed_manager \u001b[39m=\u001b[39;49m \u001b[39mself\u001b[39;49m\u001b[39m.\u001b[39;49membed_manager,\n\u001b[1;32m     35\u001b[0m     vis_data \u001b[39m=\u001b[39;49m \u001b[39mself\u001b[39;49m\u001b[39m.\u001b[39;49mvis_data,\n\u001b[1;32m     36\u001b[0m     embed_data \u001b[39m=\u001b[39;49m \u001b[39mself\u001b[39;49m\u001b[39m.\u001b[39;49membed_data)\n\u001b[1;32m     38\u001b[0m \u001b[39mself\u001b[39m\u001b[39m.\u001b[39mvis_manager \u001b[39m=\u001b[39m vis_manager\u001b[39m.\u001b[39mVisManager(\n\u001b[1;32m     39\u001b[0m     vis_data \u001b[39m=\u001b[39m \u001b[39mself\u001b[39m\u001b[39m.\u001b[39mvis_data)\n\u001b[1;32m     41\u001b[0m \u001b[39mself\u001b[39m\u001b[39m.\u001b[39mquery_manager \u001b[39m=\u001b[39m query_manager\u001b[39m.\u001b[39mQueryManager(\n\u001b[1;32m     42\u001b[0m     whoosh \u001b[39m=\u001b[39m \u001b[39mself\u001b[39m\u001b[39m.\u001b[39mwhoosh_manager,\n\u001b[1;32m     43\u001b[0m     embed_manager \u001b[39m=\u001b[39m \u001b[39mself\u001b[39m\u001b[39m.\u001b[39membed_manager)\n",
      "File \u001b[0;32m~/Documents/Academic/Courses/CENG596/LASE/LASE/file_manager.py:43\u001b[0m, in \u001b[0;36mFileManager.__init__\u001b[0;34m(self, paper_dir, index_dir, whoosh_manager, embed_manager, vis_data, embed_data)\u001b[0m\n\u001b[1;32m     40\u001b[0m \u001b[39mself\u001b[39m\u001b[39m.\u001b[39membed_data_fname \u001b[39m=\u001b[39m \u001b[39m\"\u001b[39m\u001b[39membed.npy\u001b[39m\u001b[39m\"\u001b[39m\n\u001b[1;32m     42\u001b[0m \u001b[39mself\u001b[39m\u001b[39m.\u001b[39mload() \u001b[39m# reads the pickled vis_data and embed_data upon initialization. This might be a problem if file deleted or renamed!!\u001b[39;00m\n\u001b[0;32m---> 43\u001b[0m \u001b[39mself\u001b[39;49m\u001b[39m.\u001b[39;49mscan()\n",
      "File \u001b[0;32m~/Documents/Academic/Courses/CENG596/LASE/LASE/file_manager.py:67\u001b[0m, in \u001b[0;36mFileManager.scan\u001b[0;34m(self)\u001b[0m\n\u001b[1;32m     65\u001b[0m \u001b[39mself\u001b[39m\u001b[39m.\u001b[39mvis_data[\u001b[39mid\u001b[39m] \u001b[39m=\u001b[39m paper_dict\n\u001b[1;32m     66\u001b[0m \u001b[39m# Add id infornt of embedding\u001b[39;00m\n\u001b[0;32m---> 67\u001b[0m embedding \u001b[39m=\u001b[39m np\u001b[39m.\u001b[39minsert(embedding, \u001b[39m0\u001b[39m, \u001b[39mid\u001b[39m)\n\u001b[1;32m     68\u001b[0m \u001b[39m# Update the new_embeddings list (which will become self.embed_data)\u001b[39;00m\n\u001b[1;32m     69\u001b[0m \u001b[39mself\u001b[39m\u001b[39m.\u001b[39membed_data \u001b[39m=\u001b[39m np\u001b[39m.\u001b[39mvstack((\u001b[39mself\u001b[39m\u001b[39m.\u001b[39membed_data, embedding),axis \u001b[39m=\u001b[39m \u001b[39m0\u001b[39m)\n",
      "File \u001b[0;32m~/Documents/Academic/Courses/CENG596/LASE/LASE/file_manager.py:67\u001b[0m, in \u001b[0;36mFileManager.scan\u001b[0;34m(self)\u001b[0m\n\u001b[1;32m     65\u001b[0m \u001b[39mself\u001b[39m\u001b[39m.\u001b[39mvis_data[\u001b[39mid\u001b[39m] \u001b[39m=\u001b[39m paper_dict\n\u001b[1;32m     66\u001b[0m \u001b[39m# Add id infornt of embedding\u001b[39;00m\n\u001b[0;32m---> 67\u001b[0m embedding \u001b[39m=\u001b[39m np\u001b[39m.\u001b[39minsert(embedding, \u001b[39m0\u001b[39m, \u001b[39mid\u001b[39m)\n\u001b[1;32m     68\u001b[0m \u001b[39m# Update the new_embeddings list (which will become self.embed_data)\u001b[39;00m\n\u001b[1;32m     69\u001b[0m \u001b[39mself\u001b[39m\u001b[39m.\u001b[39membed_data \u001b[39m=\u001b[39m np\u001b[39m.\u001b[39mvstack((\u001b[39mself\u001b[39m\u001b[39m.\u001b[39membed_data, embedding),axis \u001b[39m=\u001b[39m \u001b[39m0\u001b[39m)\n",
      "File \u001b[0;32m_pydevd_bundle/pydevd_cython.pyx:1457\u001b[0m, in \u001b[0;36m_pydevd_bundle.pydevd_cython.SafeCallWrapper.__call__\u001b[0;34m()\u001b[0m\n",
      "File \u001b[0;32m_pydevd_bundle/pydevd_cython.pyx:701\u001b[0m, in \u001b[0;36m_pydevd_bundle.pydevd_cython.PyDBFrame.trace_dispatch\u001b[0;34m()\u001b[0m\n",
      "File \u001b[0;32m_pydevd_bundle/pydevd_cython.pyx:1152\u001b[0m, in \u001b[0;36m_pydevd_bundle.pydevd_cython.PyDBFrame.trace_dispatch\u001b[0;34m()\u001b[0m\n",
      "File \u001b[0;32m_pydevd_bundle/pydevd_cython.pyx:1135\u001b[0m, in \u001b[0;36m_pydevd_bundle.pydevd_cython.PyDBFrame.trace_dispatch\u001b[0;34m()\u001b[0m\n",
      "File \u001b[0;32m_pydevd_bundle/pydevd_cython.pyx:312\u001b[0m, in \u001b[0;36m_pydevd_bundle.pydevd_cython.PyDBFrame.do_wait_suspend\u001b[0;34m()\u001b[0m\n",
      "File \u001b[0;32m/opt/homebrew/Caskroom/miniconda/base/envs/LASE/lib/python3.11/site-packages/debugpy/_vendored/pydevd/pydevd.py:2070\u001b[0m, in \u001b[0;36mPyDB.do_wait_suspend\u001b[0;34m(self, thread, frame, event, arg, exception_type)\u001b[0m\n\u001b[1;32m   2067\u001b[0m             from_this_thread\u001b[39m.\u001b[39mappend(frame_custom_thread_id)\n\u001b[1;32m   2069\u001b[0m     \u001b[39mwith\u001b[39;00m \u001b[39mself\u001b[39m\u001b[39m.\u001b[39m_threads_suspended_single_notification\u001b[39m.\u001b[39mnotify_thread_suspended(thread_id, thread, stop_reason):\n\u001b[0;32m-> 2070\u001b[0m         keep_suspended \u001b[39m=\u001b[39m \u001b[39mself\u001b[39;49m\u001b[39m.\u001b[39;49m_do_wait_suspend(thread, frame, event, arg, suspend_type, from_this_thread, frames_tracker)\n\u001b[1;32m   2072\u001b[0m frames_list \u001b[39m=\u001b[39m \u001b[39mNone\u001b[39;00m\n\u001b[1;32m   2074\u001b[0m \u001b[39mif\u001b[39;00m keep_suspended:\n\u001b[1;32m   2075\u001b[0m     \u001b[39m# This means that we should pause again after a set next statement.\u001b[39;00m\n",
      "File \u001b[0;32m/opt/homebrew/Caskroom/miniconda/base/envs/LASE/lib/python3.11/site-packages/debugpy/_vendored/pydevd/pydevd.py:2106\u001b[0m, in \u001b[0;36mPyDB._do_wait_suspend\u001b[0;34m(self, thread, frame, event, arg, suspend_type, from_this_thread, frames_tracker)\u001b[0m\n\u001b[1;32m   2103\u001b[0m         \u001b[39mself\u001b[39m\u001b[39m.\u001b[39m_call_input_hook()\n\u001b[1;32m   2105\u001b[0m     \u001b[39mself\u001b[39m\u001b[39m.\u001b[39mprocess_internal_commands()\n\u001b[0;32m-> 2106\u001b[0m     time\u001b[39m.\u001b[39msleep(\u001b[39m0.01\u001b[39m)\n\u001b[1;32m   2108\u001b[0m \u001b[39mself\u001b[39m\u001b[39m.\u001b[39mcancel_async_evaluation(get_current_thread_id(thread), \u001b[39mstr\u001b[39m(\u001b[39mid\u001b[39m(frame)))\n\u001b[1;32m   2110\u001b[0m \u001b[39m# process any stepping instructions\u001b[39;00m\n",
      "\u001b[0;31mKeyboardInterrupt\u001b[0m: "
     ]
    }
   ],
   "source": [
    "import manager\n",
    "\n",
    "\n",
    "MAMANAGER = manager.Manager()\n",
    "\n"
   ]
  },
  {
   "cell_type": "code",
   "execution_count": 4,
   "metadata": {},
   "outputs": [
    {
     "data": {
      "text/plain": [
       "(2, 3)"
      ]
     },
     "execution_count": 4,
     "metadata": {},
     "output_type": "execute_result"
    }
   ],
   "source": [
    "import numpy as np\n",
    "matrix = np.array([[1, 2, 3],\n",
    "                   [4, 5, 6]])\n",
    "\n",
    "\n",
    "matrix.shape"
   ]
  },
  {
   "attachments": {},
   "cell_type": "markdown",
   "metadata": {},
   "source": [
    "# Write an exception for RateLimitError:\n",
    "\n"
   ]
  },
  {
   "cell_type": "code",
   "execution_count": null,
   "metadata": {},
   "outputs": [],
   "source": [
    "# Write an exception for RateLimitError:\n",
    "\n",
    "\n",
    "\n"
   ]
  },
  {
   "cell_type": "code",
   "execution_count": 7,
   "metadata": {},
   "outputs": [
    {
     "data": {
      "text/plain": [
       "array([   1, 1000,    2,    3])"
      ]
     },
     "execution_count": 7,
     "metadata": {},
     "output_type": "execute_result"
    }
   ],
   "source": [
    "# How does np vstack work? Write code\n",
    "\n",
    "\n"
   ]
  }
 ],
 "metadata": {
  "kernelspec": {
   "display_name": "LASE",
   "language": "python",
   "name": "python3"
  },
  "language_info": {
   "codemirror_mode": {
    "name": "ipython",
    "version": 3
   },
   "file_extension": ".py",
   "mimetype": "text/x-python",
   "name": "python",
   "nbconvert_exporter": "python",
   "pygments_lexer": "ipython3",
   "version": "3.11.3"
  },
  "orig_nbformat": 4
 },
 "nbformat": 4,
 "nbformat_minor": 2
}
