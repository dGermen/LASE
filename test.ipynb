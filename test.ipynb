{
 "cells": [
  {
   "cell_type": "code",
   "execution_count": 11,
   "metadata": {},
   "outputs": [],
   "source": [
    "import numpy as np"
   ]
  },
  {
   "cell_type": "code",
   "execution_count": 12,
   "metadata": {},
   "outputs": [],
   "source": [
    "# Generate 2d array, id and embeddings\n",
    "\n",
    "# Generate random embeddings\n",
    "embeddings = np.random.rand(100, 512)\n",
    "\n",
    "# Generate random ids\n",
    "ids = np.arange(100)\n",
    "\n",
    "# Get them to the same array\n",
    "embeddings = np.concatenate((ids.reshape(-1, 1), embeddings), axis=1)\n",
    "\n"
   ]
  },
  {
   "cell_type": "code",
   "execution_count": null,
   "metadata": {},
   "outputs": [],
   "source": []
  },
  {
   "cell_type": "code",
   "execution_count": 13,
   "metadata": {},
   "outputs": [],
   "source": [
    "# Get embeddings for ids 1 4 6 8\n",
    "\n",
    "# Get the embeddings\n",
    "query_ids = [1, 4, 6, 8]\n",
    "query_embeddings = []\n",
    "for id in query_ids:\n",
    "    query_embeddings.append(embeddings[embeddings[:, 0] == id].reshape(-1, 513))\n",
    "    "
   ]
  },
  {
   "cell_type": "code",
   "execution_count": 14,
   "metadata": {},
   "outputs": [
    {
     "data": {
      "text/plain": [
       "(2, 513)"
      ]
     },
     "execution_count": 14,
     "metadata": {},
     "output_type": "execute_result"
    }
   ],
   "source": [
    "bb = embeddings[embeddings[:, 0] == 1]\n",
    "\n",
    "bb.shape\n",
    "\n",
    "aa = np.vstack([bb,bb])\n",
    "\n",
    "aa.shape"
   ]
  },
  {
   "cell_type": "code",
   "execution_count": 15,
   "metadata": {},
   "outputs": [
    {
     "ename": "NameError",
     "evalue": "name 'k' is not defined",
     "output_type": "error",
     "traceback": [
      "\u001b[1;31m---------------------------------------------------------------------------\u001b[0m",
      "\u001b[1;31mNameError\u001b[0m                                 Traceback (most recent call last)",
      "Cell \u001b[1;32mIn[15], line 13\u001b[0m\n\u001b[0;32m     10\u001b[0m sorted_indices \u001b[39m=\u001b[39m np\u001b[39m.\u001b[39margsort(similarities, axis\u001b[39m=\u001b[39m\u001b[39m0\u001b[39m)[::\u001b[39m-\u001b[39m\u001b[39m1\u001b[39m]\n\u001b[0;32m     12\u001b[0m     \u001b[39m# Retrieve the IDs of the top k most similar embeddings\u001b[39;00m\n\u001b[1;32m---> 13\u001b[0m top_k_ids \u001b[39m=\u001b[39m embeddings[sorted_indices[:k], \u001b[39m0\u001b[39m]\n",
      "\u001b[1;31mNameError\u001b[0m: name 'k' is not defined"
     ]
    }
   ],
   "source": [
    "# Get the embeddings (remove ids)\n",
    "from sklearn.metrics.pairwise import cosine_similarity\n",
    "\n",
    "\n",
    "x = embeddings[1, 1:]\n",
    "# Compute cosine similarity between x and all embeddings in EMD\n",
    "similarities = cosine_similarity(embeddings[:, 1:], [x])\n",
    "\n",
    "    # Sort the cosine similarity scores in descending order\n",
    "sorted_indices = np.argsort(similarities, axis=0)[::-1]\n",
    "\n",
    "    # Retrieve the IDs of the top k most similar embeddings\n",
    "top_k_ids = embeddings[sorted_indices[:k], 0]"
   ]
  },
  {
   "attachments": {},
   "cell_type": "markdown",
   "metadata": {},
   "source": []
  },
  {
   "cell_type": "code",
   "execution_count": 1,
   "metadata": {},
   "outputs": [
    {
     "name": "stdout",
     "output_type": "stream",
     "text": [
      "Index not found at index/whoosh_index. Creating new index.\n",
      "New index created at index/whoosh_index.\n"
     ]
    }
   ],
   "source": [
    "import manager\n",
    "\n",
    "\n",
    "MAMANAGER = manager.Manager()\n"
   ]
  },
  {
   "cell_type": "code",
   "execution_count": 4,
   "metadata": {},
   "outputs": [
    {
     "name": "stdout",
     "output_type": "stream",
     "text": [
      "[4]\n"
     ]
    }
   ],
   "source": [
    "a = MAMANAGER.whoosh_manager.query(\"MLP\")\n",
    "print(a)"
   ]
  },
  {
   "cell_type": "code",
   "execution_count": 2,
   "metadata": {},
   "outputs": [
    {
     "data": {
      "text/plain": [
       "'papers/181_dual_lottery_ticket_hypothesis.pdf'"
      ]
     },
     "execution_count": 2,
     "metadata": {},
     "output_type": "execute_result"
    }
   ],
   "source": [
    "import pickle\n",
    "vis_data_path = \"index/vis_data.pkl\"\n",
    "with open(vis_data_path, 'rb') as f:\n",
    "    vis_data = pickle.load(f) \n",
    "\n",
    "\n",
    "vis_data[1][\"dir\"]\n",
    "\n"
   ]
  },
  {
   "cell_type": "code",
   "execution_count": 7,
   "metadata": {},
   "outputs": [
    {
     "name": "stdout",
     "output_type": "stream",
     "text": [
      "[[1.0 0.7627352854578398 0.25900094633970705 ... 0.8195311761014844\n",
      "  0.32429757532138725 0.19307303602386627]\n",
      " [2.0 0.34852817252385193 0.6259729035381107 ... 0.2653945101335434\n",
      "  0.9255377960420886 0.00640661527513553]\n",
      " [3.0 0.9308570628809332 0.154595467683725 ... 0.4667282662040294\n",
      "  0.7567001151904011 0.2291235688088029]\n",
      " [4.0 0.32103429919046544 0.6345620525128606 ... 0.5336188545299068\n",
      "  0.4497209769157594 0.8053967920763233]]\n"
     ]
    }
   ],
   "source": [
    "import pickle\n",
    "\n",
    "# load IR/LASE/index/embed.npy pickled data\n",
    "f = \"index/embed.npy\"\n",
    "\n",
    "embed_data = np.load(f, allow_pickle=True)\n",
    "\n",
    "\n",
    "print(embed_data)"
   ]
  },
  {
   "cell_type": "code",
   "execution_count": 4,
   "metadata": {},
   "outputs": [
    {
     "data": {
      "text/plain": [
       "(2, 3)"
      ]
     },
     "execution_count": 4,
     "metadata": {},
     "output_type": "execute_result"
    }
   ],
   "source": [
    "import numpy as np\n",
    "matrix = np.array([[1, 2, 3],\n",
    "                   [4, 5, 6]])\n",
    "\n",
    "\n",
    "matrix.shape"
   ]
  },
  {
   "attachments": {},
   "cell_type": "markdown",
   "metadata": {},
   "source": [
    "# Write an exception for RateLimitError:\n",
    "\n"
   ]
  },
  {
   "cell_type": "code",
   "execution_count": null,
   "metadata": {},
   "outputs": [],
   "source": [
    "# Write an exception for RateLimitError:\n",
    "\n",
    "\n",
    "\n"
   ]
  },
  {
   "cell_type": "code",
   "execution_count": 7,
   "metadata": {},
   "outputs": [
    {
     "data": {
      "text/plain": [
       "array([   1, 1000,    2,    3])"
      ]
     },
     "execution_count": 7,
     "metadata": {},
     "output_type": "execute_result"
    }
   ],
   "source": [
    "# How does np vstack work? Write code\n",
    "\n",
    "\n"
   ]
  }
 ],
 "metadata": {
  "kernelspec": {
   "display_name": "LASE",
   "language": "python",
   "name": "python3"
  },
  "language_info": {
   "codemirror_mode": {
    "name": "ipython",
    "version": 3
   },
   "file_extension": ".py",
   "mimetype": "text/x-python",
   "name": "python",
   "nbconvert_exporter": "python",
   "pygments_lexer": "ipython3",
   "version": "3.8.5"
  },
  "orig_nbformat": 4
 },
 "nbformat": 4,
 "nbformat_minor": 2
}
